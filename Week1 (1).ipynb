{
 "cells": [
  {
   "cell_type": "code",
   "execution_count": null,
   "id": "3e74b8d3-0af8-4cb1-8b84-7649def3fb35",
   "metadata": {},
   "outputs": [],
   "source": []
  }
 ],
 "metadata": {
  "kernelspec": {
   "display_name": "",
   "name": ""
  },
  "language_info": {
   "name": ""
  }
 },
 "nbformat": 4,
 "nbformat_minor": 5
}
